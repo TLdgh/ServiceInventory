{
 "cells": [
  {
   "cell_type": "code",
   "execution_count": 1,
   "metadata": {},
   "outputs": [],
   "source": [
    "import os\n",
    "import pandas as pd"
   ]
  },
  {
   "cell_type": "code",
   "execution_count": 7,
   "metadata": {},
   "outputs": [],
   "source": [
    "rootwd=os.getcwd()\n",
    "Svc_ID_Info_path=os.path.join(rootwd, \"data\", \"Svc_ID_Info.csv\")\n",
    "Svc_Std_Result_path=os.path.join(rootwd, \"data\", \"Svc_Std_Result.csv\")\n",
    "Svc_InvDict_path=os.path.join(rootwd, \"data\", \"Svc_Inventory_Dictionary.csv\")\n",
    "Svc_StdDict_path=os.path.join(rootwd, \"data\", \"Svc_Std_Dictionary.csv\")\n",
    "\n",
    "Svc_ID_Info=pd.read_csv(Svc_ID_Info_path)\n",
    "Svc_Std_Result=pd.read_csv(Svc_Std_Result_path)\n",
    "Svc_InvDict=pd.read_csv(Svc_InvDict_path)\n",
    "Svc_StdDict=pd.read_csv(Svc_StdDict_path)"
   ]
  },
  {
   "cell_type": "markdown",
   "metadata": {},
   "source": [
    "## Data Manipulation and Analysis\n",
    "\n",
    "### Q1\n",
    "After checking the uniqueness of the department name in the data, we can find 81 distinct departments."
   ]
  },
  {
   "cell_type": "code",
   "execution_count": 28,
   "metadata": {},
   "outputs": [
    {
     "data": {
      "text/plain": [
       "81"
      ]
     },
     "execution_count": 28,
     "metadata": {},
     "output_type": "execute_result"
    }
   ],
   "source": [
    "departments=Svc_ID_Info[\"department_name_en\"].unique()\n",
    "list(sorted(departments, key=lambda x: x[0])) #visually checking data uniqueness and integrity\n",
    "len(departments)"
   ]
  },
  {
   "cell_type": "markdown",
   "metadata": {},
   "source": [
    "The number of departments who report data in the service inventory changes during different periods. The numbers are:"
   ]
  },
  {
   "cell_type": "code",
   "execution_count": 48,
   "metadata": {},
   "outputs": [
    {
     "name": "stdout",
     "output_type": "stream",
     "text": [
      "2018-2019: 72\n",
      "2022-2023: 74\n",
      "2019-2020: 76\n",
      "2020-2021: 77\n",
      "2021-2022: 78\n"
     ]
    }
   ],
   "source": [
    "Year_Depart=Svc_ID_Info[[\"fiscal_yr\", \"department_name_en\"]]\n",
    "\n",
    "df={}\n",
    "for year in Year_Depart[\"fiscal_yr\"].unique():\n",
    "    df[year]=Year_Depart[Year_Depart[\"fiscal_yr\"]==year][\"department_name_en\"].unique()\n",
    "\n",
    "for key, val in df.items():\n",
    "    print(f\"{key}: {len(val)}\")"
   ]
  },
  {
   "cell_type": "code",
   "execution_count": null,
   "metadata": {},
   "outputs": [],
   "source": []
  }
 ],
 "metadata": {
  "kernelspec": {
   "display_name": "SvcInvVenv",
   "language": "python",
   "name": "python3"
  },
  "language_info": {
   "codemirror_mode": {
    "name": "ipython",
    "version": 3
   },
   "file_extension": ".py",
   "mimetype": "text/x-python",
   "name": "python",
   "nbconvert_exporter": "python",
   "pygments_lexer": "ipython3",
   "version": "3.10.9"
  }
 },
 "nbformat": 4,
 "nbformat_minor": 2
}
